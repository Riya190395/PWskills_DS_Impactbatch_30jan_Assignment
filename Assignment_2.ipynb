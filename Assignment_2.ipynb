{
 "cells": [
  {
   "cell_type": "markdown",
   "id": "39706d0a-3513-4323-9b36-31b4823fc22c",
   "metadata": {},
   "source": [
    "# 1. Write a program to accept percentage from the user and display the grade according to the following criteria: "
   ]
  },
  {
   "cell_type": "raw",
   "id": "9efa19a6-5788-4f9c-b3e6-7ed677ebbf85",
   "metadata": {},
   "source": [
    "Marks            Grade \n",
    ">90                A \n",
    ">80 and <=90       B \n",
    ">=60 and <=80      C \n",
    "below 60           D "
   ]
  },
  {
   "cell_type": "code",
   "execution_count": 21,
   "id": "15a8ee7e-d46f-4bcc-971b-8a16e62ee4e4",
   "metadata": {},
   "outputs": [
    {
     "name": "stdin",
     "output_type": "stream",
     "text": [
      "Enter your percentage: 88.15\n"
     ]
    },
    {
     "name": "stdout",
     "output_type": "stream",
     "text": [
      "You got grade B\n"
     ]
    }
   ],
   "source": [
    "percent = float(input(\"Enter your percentage:\"))\n",
    "if percent > 90:\n",
    "    print(\"You got grade A\")\n",
    "elif percent > 80 and percent <= 90:\n",
    "    print(\"You got grade B\")\n",
    "elif percent >= 60 and percent <= 80:\n",
    "    print(\"You got grade C\")\n",
    "else:\n",
    "    print(\"You got grade D\")"
   ]
  },
  {
   "cell_type": "markdown",
   "id": "26f0aea7-8acf-4cb6-b0a7-8a3b86173f34",
   "metadata": {},
   "source": [
    "# 2. Write a program to accept the cost price of a bike and display the road tax to be paid according to the following criteria: "
   ]
  },
  {
   "cell_type": "raw",
   "id": "ddce160d-20b8-43f4-b64c-5418e5e5ae9a",
   "metadata": {},
   "source": [
    "Tax       Cost Price(in Rs) \n",
    "15%       >100000\n",
    "10%       >50000 and <= 100000 \n",
    "5%        <= 50000 "
   ]
  },
  {
   "cell_type": "code",
   "execution_count": 28,
   "id": "2186c03f-2c7a-453d-a1e5-74160e673ae9",
   "metadata": {},
   "outputs": [
    {
     "name": "stdin",
     "output_type": "stream",
     "text": [
      "Enter Cost: Rs. 100\n"
     ]
    },
    {
     "name": "stdout",
     "output_type": "stream",
     "text": [
      "Road Tax: Rs. 5.0\n"
     ]
    }
   ],
   "source": [
    "cost = int(input(\"Enter Cost: Rs.\"))\n",
    "\n",
    "if cost > 100000:\n",
    "    print(\"Road Tax: Rs.\", 0.15*cost)\n",
    "elif cost > 50000 and cost <= 100000:\n",
    "    print(\"Road Tax: Rs.\", 0.1*cost)\n",
    "else:\n",
    "    print(\"Road Tax: Rs.\", 0.05*cost)"
   ]
  },
  {
   "cell_type": "markdown",
   "id": "1c1aa557-d14b-4ffe-a29b-bc529362bd80",
   "metadata": {},
   "source": [
    "# 3.Accept any city from the user and display monuments of that city. "
   ]
  },
  {
   "cell_type": "raw",
   "id": "b7785a24-2a35-4a72-9a83-813eb8c0c291",
   "metadata": {},
   "source": [
    "City          Monument \n",
    "Delhi         Red Fort\n",
    "Agra          Taj Mahal  \n",
    "Jaipur        Jal Mahal"
   ]
  },
  {
   "cell_type": "code",
   "execution_count": 34,
   "id": "185e1ab4-aa9d-4226-9182-98120ac69deb",
   "metadata": {},
   "outputs": [
    {
     "name": "stdin",
     "output_type": "stream",
     "text": [
      "Choose 1 city from (Delhi, Agra, Jaipur): Maharashtra\n"
     ]
    },
    {
     "name": "stdout",
     "output_type": "stream",
     "text": [
      "Choose from the List!!\n"
     ]
    }
   ],
   "source": [
    "city_name = input(\"Choose 1 city from (Delhi, Agra, Jaipur):\")\n",
    "if city_name == \"Delhi\":\n",
    "    print(\"Red Fort\")\n",
    "elif city_name == \"Agra\":\n",
    "    print(\"Taj Mahal\")\n",
    "elif city_name == \"Jaipur\": \n",
    "    print(\"Jal Mahal\")\n",
    "else:\n",
    "    print(\"Choose from the List!!\")"
   ]
  },
  {
   "cell_type": "markdown",
   "id": "22d453df-3185-4d53-81b2-901e29acf0fc",
   "metadata": {},
   "source": [
    "# 4.Check how many times a given number can be divided by 3 before it is less than or equal to 10. "
   ]
  },
  {
   "cell_type": "code",
   "execution_count": 48,
   "id": "4f15804b-352d-4fc5-a615-fb2a913a6aa8",
   "metadata": {},
   "outputs": [
    {
     "name": "stdout",
     "output_type": "stream",
     "text": [
      "1\n"
     ]
    }
   ],
   "source": [
    "num = 27\n",
    "count = 0\n",
    "while num > 10:\n",
    "    num /= 3\n",
    "    count += 1\n",
    "print(count)    "
   ]
  },
  {
   "cell_type": "markdown",
   "id": "7e3267de-637d-44d4-85b1-8a42c59f657b",
   "metadata": {},
   "source": [
    "# 5. Why and When to Use while Loop in Python give a detailed description with example"
   ]
  },
  {
   "cell_type": "markdown",
   "id": "5a9bd1f3-b034-4f07-8fd5-03ddb609a5b4",
   "metadata": {},
   "source": [
    "### \"While loop\" is used to execute a block of code repeatedly until a specified condition is met. It is used when you dont know beforehand about the no. of iterations.\n",
    "#### For Example:\n"
   ]
  },
  {
   "cell_type": "code",
   "execution_count": 27,
   "id": "7b5a7728-5944-4f56-ab1c-b7b3bfc36196",
   "metadata": {},
   "outputs": [
    {
     "name": "stdout",
     "output_type": "stream",
     "text": [
      "The sum is 55\n"
     ]
    }
   ],
   "source": [
    "sum = 0\n",
    "i = 1\n",
    "while i <= 10:\n",
    "    sum += i\n",
    "    i += 1\n",
    "print(\"The sum is\", sum)"
   ]
  },
  {
   "cell_type": "markdown",
   "id": "f6a17229-e2fa-4624-abe6-1da6ad246974",
   "metadata": {},
   "source": [
    "#### The variable sum is initialized to 0. The variable i is initialized to 1. The while loop starts with the condition i <= 10. In each iteration of the loop, i is added to sum, and i is incremented by 1. The loop continues until i becomes greater than 10. After the loop ends, the value of sum is printed."
   ]
  },
  {
   "cell_type": "markdown",
   "id": "8ea63ae7-8acc-4791-ba70-1da96c0b6bb1",
   "metadata": {},
   "source": [
    "# 6. Use nested while loop to print 3 different pattern"
   ]
  },
  {
   "cell_type": "code",
   "execution_count": 29,
   "id": "a3f5b5c2-a8a9-4f0d-b479-41b2bc97dbc9",
   "metadata": {},
   "outputs": [
    {
     "name": "stdin",
     "output_type": "stream",
     "text": [
      "Enter range: 5\n"
     ]
    },
    {
     "name": "stdout",
     "output_type": "stream",
     "text": [
      "1  \n",
      "1 2  \n",
      "1 2 3  \n",
      "1 2 3 4  \n",
      "1 2 3 4 5  \n"
     ]
    }
   ],
   "source": [
    "# Pattern1\n",
    "\n",
    "n = int(input(\"Enter range:\"))\n",
    "i = 1\n",
    "while i<=n:\n",
    "    j = 1\n",
    "    while j<=i:\n",
    "        print(j,end=\" \")\n",
    "        j += 1\n",
    "    print(\" \")\n",
    "    i += 1"
   ]
  },
  {
   "cell_type": "code",
   "execution_count": 30,
   "id": "0c70f3e1-63fb-4de1-b0ef-a6dc1fac4f4f",
   "metadata": {},
   "outputs": [
    {
     "name": "stdin",
     "output_type": "stream",
     "text": [
      "Enter range: 5\n"
     ]
    },
    {
     "name": "stdout",
     "output_type": "stream",
     "text": [
      "5  \n",
      "5 4  \n",
      "5 4 3  \n",
      "5 4 3 2  \n",
      "5 4 3 2 1  \n"
     ]
    }
   ],
   "source": [
    "#pattern2\n",
    "\n",
    "n = int(input(\"Enter range:\"))\n",
    "i = 1\n",
    "while i<=n:\n",
    "    num = n\n",
    "    j = 1\n",
    "    while j<=i:\n",
    "        print(num,end=\" \")\n",
    "        num -= 1\n",
    "        j += 1\n",
    "    print(\" \")\n",
    "    i += 1"
   ]
  },
  {
   "cell_type": "code",
   "execution_count": 31,
   "id": "0f504583-f87c-4b5f-abd8-8ba8794915e7",
   "metadata": {},
   "outputs": [
    {
     "name": "stdin",
     "output_type": "stream",
     "text": [
      "Enter range: 5\n"
     ]
    },
    {
     "name": "stdout",
     "output_type": "stream",
     "text": [
      "*  \n",
      "* *  \n",
      "* * *  \n",
      "* * * *  \n",
      "* * * * *  \n"
     ]
    }
   ],
   "source": [
    "# Pattern3\n",
    "\n",
    "n = int(input(\"Enter range:\"))\n",
    "i = 1\n",
    "while i<=n:\n",
    "    j = 1\n",
    "    while j<=i:\n",
    "        print(\"*\",end=\" \")\n",
    "        j += 1\n",
    "    print(\" \")\n",
    "    i += 1"
   ]
  },
  {
   "cell_type": "markdown",
   "id": "d6097aed-03cb-43d1-98e1-b41d31565706",
   "metadata": {},
   "source": [
    "# 7-8. Reverse a while loop to display numbers from 10 to 1. "
   ]
  },
  {
   "cell_type": "code",
   "execution_count": 32,
   "id": "c858da1e-73c9-4402-94bf-2145ff890691",
   "metadata": {},
   "outputs": [
    {
     "name": "stdout",
     "output_type": "stream",
     "text": [
      "10 9 8 7 6 5 4 3 2 1 "
     ]
    }
   ],
   "source": [
    "i = 10\n",
    "while i >= 1:\n",
    "    print(i, end = \" \")\n",
    "    i -= 1"
   ]
  }
 ],
 "metadata": {
  "kernelspec": {
   "display_name": "Python 3 (ipykernel)",
   "language": "python",
   "name": "python3"
  },
  "language_info": {
   "codemirror_mode": {
    "name": "ipython",
    "version": 3
   },
   "file_extension": ".py",
   "mimetype": "text/x-python",
   "name": "python",
   "nbconvert_exporter": "python",
   "pygments_lexer": "ipython3",
   "version": "3.10.8"
  }
 },
 "nbformat": 4,
 "nbformat_minor": 5
}
